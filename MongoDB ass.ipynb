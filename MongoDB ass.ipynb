{
 "cells": [
  {
   "cell_type": "markdown",
   "id": "0e35d1ba-d167-4aed-8f4d-5bdc6480a95a",
   "metadata": {},
   "source": [
    "Q1. What is MongoDB? Explain non-relational databases in short. In which scenarios it is preferred to use\n",
    "MongoDB over SQL databases?"
   ]
  },
  {
   "cell_type": "markdown",
   "id": "882e2fbf-4baa-48da-8089-b5e2b7953476",
   "metadata": {},
   "source": [
    "MangoDB is preferred over SQL database in scenarios where flexibility and scalability are crucial. it excels in handling \n",
    "large amounts of unstructured or semi-structured data making it suitable for application with rapidly changing schema requriment or where horizontal scaling is essential.\n",
    "\n",
    "MongoDB is a NoSQL,document-oriented database that stores data in flexible, JSON likeBSON documents Non relational databases like MongoDB don't use traditional tables with rows and columns."
   ]
  },
  {
   "cell_type": "code",
   "execution_count": null,
   "id": "83169309-3565-424f-9600-523ec03ab9d8",
   "metadata": {},
   "outputs": [],
   "source": [
    "Q2. State and Explain the features of MongoDB."
   ]
  },
  {
   "cell_type": "markdown",
   "id": "edf08680-5133-42fd-8bef-ac819818cf69",
   "metadata": {},
   "source": [
    "1.Document-oriented\n",
    "2.schema-less\n",
    "3.high performance\n",
    "4.indexes\n",
    "5.Aggregation Framework\n",
    "6.horizontal scalability\n",
    "7.Replication\n",
    "8.Ad hoc Queries \n",
    "9.GridFs\n",
    "10.JSON/BSON FORMATE"
   ]
  },
  {
   "cell_type": "code",
   "execution_count": null,
   "id": "bd967592-8d93-468e-b119-8757be660720",
   "metadata": {},
   "outputs": [],
   "source": [
    "Q3. Write a code to connect MongoDB to Python. Also, create a database and a collection in MongoDB."
   ]
  },
  {
   "cell_type": "code",
   "execution_count": null,
   "id": "365302a0-6a31-4ce3-a533-0f47642e9504",
   "metadata": {},
   "outputs": [],
   "source": [
    "pip install pymongo"
   ]
  },
  {
   "cell_type": "markdown",
   "id": "de09f957-822a-4e50-856e-a1254db47075",
   "metadata": {},
   "source": [
    "import pymongo\n",
    "\n",
    "client= pymongo.MongoClient(\"mongodb://localhost:23017/\")\n",
    "database_name =\"your_database_name\"\n",
    "db=client[database_name]\n",
    "collection_name=\"your_collection_name\"\n",
    "collection=db[collection_name]\n",
    "print(f\"Connected to MongoDB. Database: {database_name},Collection:{collection_name}\")"
   ]
  },
  {
   "cell_type": "code",
   "execution_count": null,
   "id": "d52fa047-80b2-48fe-887a-ce139b28ffa4",
   "metadata": {},
   "outputs": [],
   "source": [
    "Q4. Using the database and the collection created in question number 3, write a code to insert one record,\n",
    "and insert many records. Use the find() and find_one() methods to print the inserted record."
   ]
  },
  {
   "cell_type": "markdown",
   "id": "492b71a4-4f6b-4f1c-86ba-3cf262eb38b6",
   "metadata": {},
   "source": [
    "from pymongo import MongoClient\n",
    "client = MongoClient(\"mongodb://your-mongodb-uri\")\n",
    "db=client[\"your_database_name\"]\n",
    "collection=db[\"your_collection_name\"]\n",
    "one_record={\"key1\":\"value1\",\"key2\":\"value2\"}\n",
    "inserted_many=collection.insert_many(many_records)\n",
    "found_one = collection.find_one({\"_id\":inserted_one.inserted_id})\n",
    "found_many=list(collection.find({\"_id\":{\"$in\":inserted_many.inserted_ids}}))\n",
    "print(\"Inserted One Record:\",found_one)\n",
    "print(\"Inserted Many Records:\",found_many)"
   ]
  },
  {
   "cell_type": "markdown",
   "id": "fb0f86a2-02f8-4b55-ae5b-ef6e26b5cbe8",
   "metadata": {},
   "source": [
    "Q5. Explain how you can use the find() method to query the MongoDB database. Write a simple code to\n",
    "demonstrate this."
   ]
  },
  {
   "cell_type": "code",
   "execution_count": null,
   "id": "7bdc6905-6d8f-4091-b71e-55184fac9437",
   "metadata": {},
   "outputs": [],
   "source": [
    "from pymongo import MongoClient\n",
    "client = MongoClient(\"mongodb://your-mongodb-uri\")\n",
    "db= client[\"your_database_name\"]\n",
    "collection=db[\"your_collection_name\"]\n",
    "query_filter={\"key1\":\"value1\"}\n",
    "result= list(collection.find(query_filter))\n",
    "print(\"Query Results:\")\n",
    "for document in result:\n",
    "    print(document)"
   ]
  },
  {
   "cell_type": "code",
   "execution_count": null,
   "id": "7763215c-7824-4d44-8c2b-4a74215846a4",
   "metadata": {},
   "outputs": [],
   "source": [
    "Q6. Explain the sort() method. Give an example to demonstrate sorting in MongoDB.\n"
   ]
  },
  {
   "cell_type": "code",
   "execution_count": null,
   "id": "de7531cd-46f8-43ef-b6dc-9b3123979424",
   "metadata": {},
   "outputs": [],
   "source": [
    "db.collectionName.find().sort({fieldName:1})\n",
    "db.collectionName.find().sort({fieldName:-1})"
   ]
  },
  {
   "cell_type": "code",
   "execution_count": null,
   "id": "0ccc7f10-41f8-4d9a-bc8f-cb39020b90f4",
   "metadata": {},
   "outputs": [],
   "source": [
    "db.employees.find().sort({salary:-1})"
   ]
  },
  {
   "cell_type": "code",
   "execution_count": null,
   "id": "4f0b2ff5-32af-46c5-9b27-d61d301367db",
   "metadata": {},
   "outputs": [],
   "source": [
    "Q7. Explain why delete_one(), delete_many(), and drop() is used."
   ]
  },
  {
   "cell_type": "code",
   "execution_count": null,
   "id": "e5ab322e-d982-491f-96ee-33875ace50ff",
   "metadata": {},
   "outputs": [],
   "source": [
    "DELETE FORM table_name WHERE condition;\n",
    "\n",
    "db.collection_name.drop();\n",
    "\n"
   ]
  },
  {
   "cell_type": "code",
   "execution_count": null,
   "id": "d04c1f60-0b62-4c77-b8c4-7bf79b149e84",
   "metadata": {},
   "outputs": [],
   "source": []
  },
  {
   "cell_type": "code",
   "execution_count": null,
   "id": "5115cece-b205-47dc-8f4c-550cbcb867c2",
   "metadata": {},
   "outputs": [],
   "source": []
  }
 ],
 "metadata": {
  "kernelspec": {
   "display_name": "Python 3 (ipykernel)",
   "language": "python",
   "name": "python3"
  },
  "language_info": {
   "codemirror_mode": {
    "name": "ipython",
    "version": 3
   },
   "file_extension": ".py",
   "mimetype": "text/x-python",
   "name": "python",
   "nbconvert_exporter": "python",
   "pygments_lexer": "ipython3",
   "version": "3.10.8"
  }
 },
 "nbformat": 4,
 "nbformat_minor": 5
}
